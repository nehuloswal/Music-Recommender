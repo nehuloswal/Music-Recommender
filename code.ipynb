{
 "cells": [
  {
   "cell_type": "code",
   "execution_count": 7,
   "metadata": {},
   "outputs": [],
   "source": [
    "import findspark\n",
    "import pyspark\n",
    "import random\n",
    "from pyspark.sql.functions import max, min\n",
    "from pyspark.mllib.recommendation import ALS\n"
   ]
  },
  {
   "cell_type": "code",
   "execution_count": 10,
   "metadata": {},
   "outputs": [],
   "source": [
    "findspark.init('')\n",
    "spark = SparkSession.builder.getOrCreate()\n",
    "sc = spark.sparkContext"
   ]
  },
  {
   "cell_type": "code",
   "execution_count": null,
   "metadata": {},
   "outputs": [],
   "source": [
    "user_artist = sc.textFile(\"user_artist_data_small.txt\").map(lambda line : line.split(\" \")).map(lambda x : (int(x[0]),int(x[1]),int(x[2])))\n",
    "user_artist.take(5)\n",
    "#df = data.map(line => (user,artist,) = line.split(' ')).toDF(\"User\",\"Artist\")\n",
    "#user_artist_df = user_artist.toDF([\"User\",\"Artist\",\"Count\"])\n",
    "#user_artist_df.agg(min(\"User\")).show()\n",
    "\n",
    "artist = sc.textFile(\"artist_data_small.txt\").map(lambda line : line.split(\"\\t\")).map(lambda x : (int(x[0]),x[1]))\n",
    "artist.take(5)\n",
    "#artist_df = artist.toDF([\"ArtistID\",\"Name\"])\n",
    "#artist_df.show()\n",
    "\n",
    "artist_alias = sc.textFile(\"artist_alias_small.txt\").map(lambda line : line.split(\"\\t\")).map(lambda x : (int(x[0]),int(x[1])))\n",
    "artist_alias_map = artist_alias.collectAsMap()\n",
    "data_correct_artist = user_artist.map(lambda x: (x[0], artist_alias_map.get(x[1], x[1]), x[2]))"
   ]
  },
  {
   "cell_type": "code",
   "execution_count": null,
   "metadata": {},
   "outputs": [],
   "source": [
    "trainData, validationData, testData = data_correct_artist.randomSplit([0.4,0.4,0.2], seed=100)\n",
    "trainData.cache()\n",
    "validationData.cache()\n",
    "testData.cache()"
   ]
  },
  {
   "cell_type": "code",
   "execution_count": null,
   "metadata": {},
   "outputs": [],
   "source": [
    "unique_artist = data_correct_artist.map(lambda x : x[1]).distinct().collect()\n",
    "uniq_art = sc.broadcast(unique_artist)"
   ]
  },
  {
   "cell_type": "code",
   "execution_count": null,
   "metadata": {},
   "outputs": [],
   "source": [
    "\n",
    "\n",
    "def model_eval(model, data):\n",
    "    all_artist = uniq_art.value\n",
    "    unique_users = validationData.map(lambda x: x[0]).distinct().collect()\n",
    "    train_User_Artist = dict(trainData.map(lambda x:(x[0],x[1])).groupByKey().map(lambda x: (x[0],list(x[1]))).collect())\n",
    "    test_User_Artist =  dict(validationData.map(lambda x:(x[0],x[1])).groupByKey().map(lambda x: (x[0],list(x[1]))).collect()) \n",
    "    total = 0.0\n",
    "    for user in unique_users:\n",
    "        true_artist = set(test_User_Artist[user])\n",
    "        non_train_artist = set(all_artist) - set(train_User_Artist[user]) \n",
    "        test_data= []\n",
    "        for artist in non_train_artist:\n",
    "            test_data.append((user,artist))\n",
    "\n",
    "        test_data_rdd = sc.parallelize(test_data)\n",
    "        predictions = best_model.predictAll(test_data_rdd)\n",
    "        X = len(true_artist)\n",
    "        topX = sorted(predictions.collect(), key = lambda x : x[2], reverse = True)[:X]\n",
    "        topX_RDD = sc.parallelize(topX)\n",
    "        topArtist = set(topX_RDD.map(lambda x:x[1]).collect())\n",
    "        total += float(len((true_artist) & set(topArtist)))/float(len((true_artist)))\n",
    "    return total/len(unique_users)"
   ]
  },
  {
   "cell_type": "code",
   "execution_count": null,
   "metadata": {},
   "outputs": [],
   "source": [
    "rank = [2,7,20]\n",
    "for val in rank:\n",
    "    best_model = ALS.trainImplicit(trainData,rank = val, seed = 345)\n",
    "    score = model_eval(best_model,validationData)\n",
    "    print(score)\n"
   ]
  },
  {
   "cell_type": "code",
   "execution_count": null,
   "metadata": {},
   "outputs": [],
   "source": [
    "\n",
    "model_eval(best_model,testData)\n",
    "\n",
    "best_model.recommendProducts(1059334,5)"
   ]
  }
 ],
 "metadata": {
  "kernelspec": {
   "display_name": "Python 3",
   "language": "python",
   "name": "python3"
  },
  "language_info": {
   "codemirror_mode": {
    "name": "ipython",
    "version": 3
   },
   "file_extension": ".py",
   "mimetype": "text/x-python",
   "name": "python",
   "nbconvert_exporter": "python",
   "pygments_lexer": "ipython3",
   "version": "3.6.8"
  }
 },
 "nbformat": 4,
 "nbformat_minor": 2
}
